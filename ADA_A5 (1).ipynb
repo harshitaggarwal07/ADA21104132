{
  "nbformat": 4,
  "nbformat_minor": 0,
  "metadata": {
    "colab": {
      "provenance": []
    },
    "kernelspec": {
      "name": "python3",
      "display_name": "Python 3"
    },
    "language_info": {
      "name": "python"
    }
  },
  "cells": [
    {
      "cell_type": "markdown",
      "source": [
        "Lab Assignment 5:\n",
        "Given a sorted array A containing N integers both positive and negative.\n",
        "You need to create another array containing the squares of all the elements in A and return it in non-decreasing order.\n",
        "Write a Python program to implement this in O(N) time.\n",
        "\n",
        "Example Input\n",
        "\n",
        "Input 1:\n",
        "A = [-6, -3, -1, 2, 4, 5]\n",
        "Input 2:\n",
        "A = [-5, -4, -2, 0, 1]\n",
        "\n",
        "Example Output\n",
        "Output 1:\n",
        "[1, 4, 9, 16, 25, 36]\n",
        "Output 2:\n",
        "[0, 1, 4, 16, 25]"
      ],
      "metadata": {
        "id": "0Yc32CUTsQnr"
      }
    },
    {
      "cell_type": "code",
      "source": [
        "# Python3 program to Sort square of the numbers of the array\n",
        " \n",
        "# function to sort array after doing squares of elements\n",
        "def sortSquares(arr, n):\n",
        "     \n",
        "    # first divide array into  negative and positive part\n",
        "    K = 0\n",
        "    for K in range(n):\n",
        "        if (arr[K] >= 0 ):\n",
        "            break\n",
        "     \n",
        "    # Now do the same process that we learnt\n",
        "    # in merge sort to merge to two sorted array\n",
        "    # here both two halves are sorted and we traverse\n",
        "    # first half in reverse manner because\n",
        "    # first half contains negative elements\n",
        "    i = K - 1 # Initial index of first half\n",
        "    j = K # Initial index of second half\n",
        "    ind = 0 # Initial index of temp array\n",
        "     \n",
        "    # store sorted array\n",
        "    temp = [0]*n\n",
        "    while (i >= 0 and j < n):\n",
        "         \n",
        "        if (arr[i] * arr[i] < arr[j] * arr[j]):\n",
        "            temp[ind] = arr[i] * arr[i]\n",
        "            i -= 1\n",
        "         \n",
        "        else:\n",
        "             \n",
        "            temp[ind] = arr[j] * arr[j]\n",
        "            j += 1\n",
        "             \n",
        "        ind += 1\n",
        "     \n",
        "    ''' Copy the remaining elements of first half '''\n",
        "    while (i >= 0):\n",
        "         \n",
        "        temp[ind] = arr[i] * arr[i]\n",
        "        i -= 1\n",
        "        ind += 1\n",
        "         \n",
        "    ''' Copy the remaining elements of second half '''\n",
        "    while (j < n):\n",
        "        temp[ind] = arr[j] * arr[j]\n",
        "        j += 1\n",
        "        ind += 1\n",
        "         \n",
        "    # copy 'temp' array into original array\n",
        "    for i in range(n):\n",
        "        arr[i] = temp[i]\n",
        " \n",
        "# Driver code\n",
        "arr = [-6, -3, -1, 2, 4, 5 ]\n",
        "n = len(arr)\n",
        " \n",
        "print(\"Before sort \")\n",
        "for i in range(n):\n",
        "    print(arr[i], end =\" \" )\n",
        "     \n",
        "sortSquares(arr, n)\n",
        "print(\"\\nAfter Sort \")\n",
        "for i in range(n):\n",
        "    print(arr[i], end =\" \" )"
      ],
      "metadata": {
        "colab": {
          "base_uri": "https://localhost:8080/"
        },
        "id": "X-fXfNyLyCX8",
        "outputId": "ddcddcff-2688-4eb6-f545-249650446873"
      },
      "execution_count": 1,
      "outputs": [
        {
          "output_type": "stream",
          "name": "stdout",
          "text": [
            "Before sort \n",
            "-6 -3 -1 2 4 5 \n",
            "After Sort \n",
            "1 4 9 16 25 36 "
          ]
        }
      ]
    }
  ]
}