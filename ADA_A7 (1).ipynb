{
  "nbformat": 4,
  "nbformat_minor": 0,
  "metadata": {
    "colab": {
      "provenance": []
    },
    "kernelspec": {
      "name": "python3",
      "display_name": "Python 3"
    },
    "language_info": {
      "name": "python"
    }
  },
  "cells": [
    {
      "cell_type": "markdown",
      "source": [
        "As you saw in class, greedy algorithms are often used when we have an optimization problem involving a series of choices. In today’s lab, we will explore one such example problem. We would like to maximize the number of jobs that can be done over a period of time.\n",
        "If we are given, say, 10 jobs, each with its start time and finish time, we want to select the largest possible subset of these jobs in such a way that no two jobs in the subset overlap in time. In other words, we can only work on one job at any one time. For simplicity, assume that time is measured by whole numbers. The smallest interval of time we will measure will be between consecutive integers. It’s okay for one job to begin at the same instant another job finishes.\n",
        "We’re going to solve this problem using a greedy algorithm, as we did in class. Here is the pseudocode: \n",
        "1. Sort the jobs ascending by finish time. \n",
        "2. Let W be our chosen subset of jobs to-do, and initialize it to be empty. \n",
        "3. for j = 1 to n \n",
        "if job j does not overlap in time with W\n",
        "add j to W \n",
        "\n",
        "To test this algorithm, we need an initial set of candidate jobs. So, we’ll create a collection of 10 jobs. Their start and finish times will be random. For example, the start time for each job can be a random integer value from 0 to 9 inclusive. And we can set the duration of each job to be a random integer from 2 to 6 inclusive. But these constants are just implementation parameters that have no effect on the optimality of the algorithm, and we can tweak these numbers later if necessary.\n"
      ],
      "metadata": {
        "id": "-8nQnxJR81yR"
      }
    },
    {
      "cell_type": "code",
      "source": [
        "def interval_scheduling(jobs):\n",
        "    # sort jobs by finish time in non-decreasing order\n",
        "    sorted_jobs = sorted(jobs, key=lambda x: x[1])\n",
        "    # initialize empty subset of jobs\n",
        "    S = []\n",
        "    # loop through jobs\n",
        "    for job in sorted_jobs:\n",
        "        # if job doesn't overlap with any jobs in S, add it to S\n",
        "        if not any(job[0] < end for (start, end) in S):\n",
        "            S.append(job)\n",
        "    return S\n",
        "\n",
        "# example usage\n",
        "jobs = [(0, 6), (1, 4), (3, 5), (5, 7), (7, 8), (8, 10), (10,15), (10,13), (13,16), (15,18), (16,18)]\n",
        "subset = interval_scheduling(jobs)\n",
        "print(subset)"
      ],
      "metadata": {
        "colab": {
          "base_uri": "https://localhost:8080/"
        },
        "id": "FG9FzMBR83hQ",
        "outputId": "077e3dd0-4039-4746-aae8-74eb8cbfb615"
      },
      "execution_count": null,
      "outputs": [
        {
          "output_type": "stream",
          "name": "stdout",
          "text": [
            "[(1, 4), (5, 7), (7, 8), (8, 10), (10, 13), (13, 16), (16, 18)]\n"
          ]
        }
      ]
    },
    {
      "cell_type": "markdown",
      "source": [
        "Question 2 : Implement Prim's Algorithm"
      ],
      "metadata": {
        "id": "lF6hku-QDdiJ"
      }
    },
    {
      "cell_type": "code",
      "source": [
        "# A Python3 program for Prim's Minimum Spanning Tree (MST) algorithm.\n",
        "# The program is for adjacency matrix representation of the graph\n",
        "\n",
        "# Library for INT_MAX\n",
        "import sys\n",
        "\n",
        "\n",
        "class Graph():\n",
        "\tdef __init__(self, vertices):\n",
        "\t\tself.V = vertices\n",
        "\t\tself.graph = [[0 for column in range(vertices)]\n",
        "\t\t\t\t\tfor row in range(vertices)]\n",
        "\n",
        "\t# A utility function to print the constructed MST stored in parent[]\n",
        "\tdef printMST(self, parent):\n",
        "\t\tprint(\"Edge \\tWeight\")\n",
        "\t\tfor i in range(1, self.V):\n",
        "\t\t\tprint(parent[i], \"-\", i, \"\\t\", self.graph[i][parent[i]])\n",
        "\n",
        "\t# A utility function to find the vertex with minimum distance value, from the set of vertices not yet included in shortest path tree\n",
        "\tdef minKey(self, key, mstSet):\n",
        "\n",
        "\t\t# Initialize min value\n",
        "\t\tmin = sys.maxsize\n",
        "\n",
        "\t\tfor v in range(self.V):\n",
        "\t\t\tif key[v] < min and mstSet[v] == False:\n",
        "\t\t\t\tmin = key[v]\n",
        "\t\t\t\tmin_index = v\n",
        "\n",
        "\t\treturn min_index\n",
        "\n",
        "\t# Function to construct and print MST for a graph represented using adjacency matrix representation\n",
        "\tdef primMST(self):\n",
        "\n",
        "\t\t# Key values used to pick minimum weight edge in cut\n",
        "\t\tkey = [sys.maxsize] * self.V\n",
        "\t\tparent = [None] * self.V # Array to store constructed MST\n",
        "\t\t# Make key 0 so that this vertex is picked as first vertex\n",
        "\t\tkey[0] = 0\n",
        "\t\tmstSet = [False] * self.V\n",
        "\n",
        "\t\tparent[0] = -1 # First node is always the root of\n",
        "\n",
        "\t\tfor cout in range(self.V):\n",
        "\n",
        "\t\t\t# Pick the minimum distance vertex from the set of vertices not yet processed. u is always equal to src in first iteration\n",
        "\t\t\tu = self.minKey(key, mstSet)\n",
        "\n",
        "\t\t\t# Put the minimum distance vertex in the shortest path tree\n",
        "\t\t\tmstSet[u] = True\n",
        "\n",
        "\t\t\t# Update dist value of the adjacent vertices of the picked vertex only if the current distance is greater than new distance and the vertex in not in the shortest path tree\n",
        "\t\t\tfor v in range(self.V):\n",
        "\n",
        "\t\t\t\t# graph[u][v] is non zero only for adjacent vertices of m mstSet[v] is false for vertices not yet included in MST Update the key only if graph[u][v] is smaller than key[v]\n",
        "\t\t\t\tif self.graph[u][v] > 0 and mstSet[v] == False \\\n",
        "\t\t\t\tand key[v] > self.graph[u][v]:\n",
        "\t\t\t\t\tkey[v] = self.graph[u][v]\n",
        "\t\t\t\t\tparent[v] = u\n",
        "\n",
        "\t\tself.printMST(parent)\n",
        "\n",
        "\n",
        "# Driver's code\n",
        "if __name__ == '__main__':\n",
        "\tz=int(input(\"Enter the nunber of vertices \"))\n",
        "\tg = Graph(z)\n",
        "\tg.graph = [[0, 2, 0, 6, 0],\n",
        "\t\t\t[2, 0, 3, 8, 5],\n",
        "\t\t\t[0, 3, 0, 0, 7],\n",
        "\t\t\t[6, 8, 0, 0, 9],\n",
        "\t\t\t[0, 5, 7, 9, 0]]\n",
        "\n",
        "\tg.primMST()"
      ],
      "metadata": {
        "colab": {
          "base_uri": "https://localhost:8080/"
        },
        "id": "GLOmclhtUKWj",
        "outputId": "dcab611f-e782-43de-c8ea-4226678f1dcd"
      },
      "execution_count": null,
      "outputs": [
        {
          "output_type": "stream",
          "name": "stdout",
          "text": [
            "Enter the nunber of vertices 5\n",
            "Edge \tWeight\n",
            "0 - 1 \t 2\n",
            "1 - 2 \t 3\n",
            "0 - 3 \t 6\n",
            "1 - 4 \t 5\n"
          ]
        }
      ]
    }
  ]
}