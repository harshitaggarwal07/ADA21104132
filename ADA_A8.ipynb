{
  "nbformat": 4,
  "nbformat_minor": 0,
  "metadata": {
    "colab": {
      "provenance": []
    },
    "kernelspec": {
      "name": "python3",
      "display_name": "Python 3"
    },
    "language_info": {
      "name": "python"
    }
  },
  "cells": [
    {
      "cell_type": "markdown",
      "source": [
        "Program 2:\n",
        "Given two strings A and B, find the minimum number of steps required to convert A to B. (each operation is counted as 1 step.)\n",
        "You have the following 3 operations permitted on a word:\n",
        "\n",
        "Insert a character\n",
        "\n",
        "Delete a character\n",
        "\n",
        "Replace a character\n",
        "\n",
        "\n",
        "Input Format:\n",
        "\n",
        "The first argument of input contains a string, A. The second argument of input contains a string, B. \n",
        "\n",
        "Output Format:\n",
        "\n",
        "Return an integer, representing the minimum number of steps required. \n",
        "\n",
        "Constraints:\n",
        "\n",
        "1 <= length(A), length(B) <= 450 \n",
        "\n",
        "Examples:\n",
        "\n",
        "Input 1: A = \"abad\" B = \"abac\" Output 1: 1 Explanation 1: Operation 1: Replace d with c. Input 2: A = \"Anshuman\" B = \"Antihuman\" Output 2: 2 Explanation 2: => Operation 1: Replace s with t. => Operation 2: Insert i."
      ],
      "metadata": {
        "id": "c2M_LoCXE0vU"
      }
    },
    {
      "cell_type": "code",
      "source": [
        "def minSteps(A, B):\n",
        "    m = len(A)\n",
        "    n = len(B)\n",
        "    dp = [[0 for j in range(n+1)] for i in range(m+1)]\n",
        "    for i in range(m+1):\n",
        "        dp[i][0] = i\n",
        "    for j in range(n+1):\n",
        "        dp[0][j] = j\n",
        "    for i in range(1, m+1):\n",
        "        for j in range(1, n+1):\n",
        "            if A[i-1] == B[j-1]:\n",
        "                dp[i][j] = dp[i-1][j-1]\n",
        "            else:\n",
        "                dp[i][j] = 1 + min(dp[i][j-1], dp[i-1][j], dp[i-1][j-1])\n",
        "    return dp[m][n]\n",
        "\n",
        "# Example usage\n",
        "A = \"anshuman\"\n",
        "B = \"antihuman\"\n",
        "print(minSteps(A, B)) "
      ],
      "metadata": {
        "colab": {
          "base_uri": "https://localhost:8080/"
        },
        "id": "PO1QoaXKE3Pt",
        "outputId": "776cf4fa-6c28-44c0-cd6b-e124258a8df0"
      },
      "execution_count": 4,
      "outputs": [
        {
          "output_type": "stream",
          "name": "stdout",
          "text": [
            "2\n"
          ]
        }
      ]
    }
  ]
}