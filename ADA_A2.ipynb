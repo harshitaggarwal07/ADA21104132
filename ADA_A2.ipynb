{
  "nbformat": 4,
  "nbformat_minor": 0,
  "metadata": {
    "colab": {
      "provenance": []
    },
    "kernelspec": {
      "name": "python3",
      "display_name": "Python 3"
    },
    "language_info": {
      "name": "python"
    }
  },
  "cells": [
    {
      "cell_type": "markdown",
      "source": [
        " Write  a program  that  prompts  for and reads  in  a string, then prints  a message  saying whether it  is  a palindrome."
      ],
      "metadata": {
        "id": "h4o1f6CA4wVq"
      }
    },
    {
      "cell_type": "code",
      "source": [
        "mytext=input(\"String=\")\n",
        "l=len(mytext)\n",
        "stat=1\n",
        "x=0\n",
        "y=l-1\n",
        "while(x<y):\n",
        "    if(mytext[x]==mytext[y]):\n",
        "        x=x+1\n",
        "        y=y-1\n",
        "    else:\n",
        "        stat=0\n",
        "        break\n",
        "if(stat==1):\n",
        "    print(\"string is palindrome\")\n",
        "else:\n",
        "    print(\"string is not palindrome\")\n"
      ],
      "metadata": {
        "colab": {
          "base_uri": "https://localhost:8080/"
        },
        "id": "R85mL8zN4znQ",
        "outputId": "4db78c09-7966-4ba7-adb6-70bb81bede92"
      },
      "execution_count": null,
      "outputs": [
        {
          "output_type": "stream",
          "name": "stdout",
          "text": [
            "String=madam\n",
            "string is palindrome\n"
          ]
        }
      ]
    },
    {
      "cell_type": "markdown",
      "source": [
        "Write a program that reads in two integers and uses  recursion to compute the first raised to the second power."
      ],
      "metadata": {
        "id": "dU67aW0X5j4U"
      }
    },
    {
      "cell_type": "code",
      "source": [
        "def power(n1,n2):\n",
        "    if (n2==0):\n",
        "        return 1\n",
        "    elif(n2>0):\n",
        "        return (n1*power(n1,n2-1))\n",
        "    else:\n",
        "        return (1/(n1*power(1/n1,n2+1)))\n",
        "\n",
        "\n",
        "n1=int(input(\"Enter base number \"))\n",
        "n2=int(input(\"Enter power number\"))\n",
        "print(power(n1,n2))"
      ],
      "metadata": {
        "colab": {
          "base_uri": "https://localhost:8080/"
        },
        "id": "BtoXn8IZ5oZq",
        "outputId": "264cc632-8b18-4483-d05c-13f460942648"
      },
      "execution_count": null,
      "outputs": [
        {
          "output_type": "stream",
          "name": "stdout",
          "text": [
            "Enter base number 10\n",
            "Enter power number2\n",
            "100\n"
          ]
        }
      ]
    }
  ]
}
