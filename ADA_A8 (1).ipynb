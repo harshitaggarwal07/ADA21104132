{
  "nbformat": 4,
  "nbformat_minor": 0,
  "metadata": {
    "colab": {
      "provenance": []
    },
    "kernelspec": {
      "name": "python3",
      "display_name": "Python 3"
    },
    "language_info": {
      "name": "python"
    }
  },
  "cells": [
    {
      "cell_type": "markdown",
      "source": [
        "Program 2:\n",
        "Given two strings A and B, find the minimum number of steps required to convert A to B. (each operation is counted as 1 step.)\n",
        "You have the following 3 operations permitted on a word:\n",
        "\n",
        "Insert a character\n",
        "\n",
        "Delete a character\n",
        "\n",
        "Replace a character\n",
        "\n",
        "\n",
        "Input Format:\n",
        "\n",
        "The first argument of input contains a string, A. The second argument of input contains a string, B. \n",
        "\n",
        "Output Format:\n",
        "\n",
        "Return an integer, representing the minimum number of steps required. \n",
        "\n",
        "Constraints:\n",
        "\n",
        "1 <= length(A), length(B) <= 450 \n",
        "\n",
        "Examples:\n",
        "\n",
        "Input 1: A = \"abad\" B = \"abac\" Output 1: 1 Explanation 1: Operation 1: Replace d with c. Input 2: A = \"Anshuman\" B = \"Antihuman\" Output 2: 2 Explanation 2: => Operation 1: Replace s with t. => Operation 2: Insert i."
      ],
      "metadata": {
        "id": "c2M_LoCXE0vU"
      }
    },
    {
      "cell_type": "code",
      "source": [
        "def editDistDP(str1, str2, m, n):\n",
        "    # Create a table to store results of subproblems\n",
        "    dp = [[0 for x in range(n + 1)] for x in range(m + 1)]\n",
        " \n",
        "    # Fill d[][] in bottom up manner\n",
        "    for i in range(m + 1):\n",
        "        for j in range(n + 1):\n",
        " \n",
        "            # If first string is empty, only option is to\n",
        "            # insert all characters of second string\n",
        "            if i == 0:\n",
        "                dp[i][j] = j    # Min. operations = j\n",
        " \n",
        "            # If second string is empty, only option is to\n",
        "            # remove all characters of second string\n",
        "            elif j == 0:\n",
        "                dp[i][j] = i    # Min. operations = i\n",
        " \n",
        "            # If last characters are same, ignore last char\n",
        "            # and recur for remaining string\n",
        "            elif str1[i-1] == str2[j-1]:\n",
        "                dp[i][j] = dp[i-1][j-1]\n",
        " \n",
        "            # If last character are different, consider all\n",
        "            # possibilities and find minimum\n",
        "            else:\n",
        "                dp[i][j] = 1 + min(dp[i][j-1],        # Insert\n",
        "                                   dp[i-1][j],        # Remove\n",
        "                                   dp[i-1][j-1])    # Replace\n",
        " \n",
        "    return dp[m][n]\n",
        " \n",
        " \n",
        "# Driver code\n",
        "str1 = \"anshuman\"\n",
        "str2 = \"antihuman\"\n",
        " \n",
        "print(editDistDP(str1, str2, len(str1), len(str2)))\n"
      ],
      "metadata": {
        "colab": {
          "base_uri": "https://localhost:8080/"
        },
        "id": "PO1QoaXKE3Pt",
        "outputId": "c72956af-a9de-4f51-f762-63d9becc8349"
      },
      "execution_count": 2,
      "outputs": [
        {
          "output_type": "stream",
          "name": "stdout",
          "text": [
            "2\n"
          ]
        }
      ]
    }
  ]
}