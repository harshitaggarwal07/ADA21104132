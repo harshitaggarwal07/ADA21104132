{
  "nbformat": 4,
  "nbformat_minor": 0,
  "metadata": {
    "colab": {
      "provenance": []
    },
    "kernelspec": {
      "name": "python3",
      "display_name": "Python 3"
    },
    "language_info": {
      "name": "python"
    }
  },
  "cells": [
    {
      "cell_type": "markdown",
      "source": [
        "Lab Assignment 1:\n",
        "Problem1:\n",
        "Simran is running up a staircase with N steps, and can hop(jump) either 1 step, 2 steps or 3 steps at a time. You have to count, how many possible ways Simran can run up to the stairs.\n",
        "Input Format:\n",
        "Input contains integer N that is number of steps\n",
        "Output Format:\n",
        "Output for each integer N the no of possible ways w.\n",
        "Constraints\n",
        "1≤N≤30\n",
        "SAMPLE INPUT: 4\n",
        "SAMPLE OUTPUT: 7"
      ],
      "metadata": {
        "id": "fS0v4x0gxbia"
      }
    },
    {
      "cell_type": "code",
      "source": [
        "#%%\n",
        "n=int(input(\"N=\"))\n",
        "def step(n):\n",
        "    if (n<0):\n",
        "        return 0\n",
        "    elif (n==0):\n",
        "        return 1\n",
        "    elif (n==1):\n",
        "        return 1\n",
        "    elif(n==2):\n",
        "        return 2\n",
        "    else:\n",
        "        return (step(n-3)+step(n-2)+step(n-1))\n",
        "print(step(n))\n",
        "# %%"
      ],
      "metadata": {
        "colab": {
          "base_uri": "https://localhost:8080/"
        },
        "id": "bqgNZKHU3QbS",
        "outputId": "ffc37104-8042-4c5f-8a09-81350a96b3ef"
      },
      "execution_count": 1,
      "outputs": [
        {
          "output_type": "stream",
          "name": "stdout",
          "text": [
            "N=4\n",
            "7\n"
          ]
        }
      ]
    },
    {
      "cell_type": "markdown",
      "source": [
        "Patlu and Motu works in a building construction, they have to put some number of bricks  in a building construction, they have to put some number of bricks N from one place to another, and started doing their work. They decided , they end up with a fun challenge who will put the last brick. one place to another, and started doing their work. They decided , they end up with a fun challenge who will put the last brick.\n",
        "They to follow a simple rule, In the i'th round, Patlu puts i bricks whereas Motu puts ix2 bricks. There are only N bricks, you need to help find the challenge result to find who put the last brick you need to help find the challenge result to find who put the last brick.\n",
        "Input: First line contains an integer N.\n",
        "Output: Output\n",
        "\"Patlu\" (without the quotes) if  (without the quotes) if Patlu puts the last bricks ,\"Motu\"(without the quotes) otherwise. the quotes) otherwise.\n",
        "Constraints: 1 ≤ N ≤ 10000\n",
        "10000\n",
        "Sample Input: 13\n",
        "Sample Output: Motu"
      ],
      "metadata": {
        "id": "ylQXGcZL3QIg"
      }
    },
    {
      "cell_type": "code",
      "source": [
        "n=int(input(\"N\"))\n",
        "motu=0\n",
        "a=0\n",
        "b=0\n",
        "count=0\n",
        "i=1\n",
        "while(i<=n):\n",
        "    a=i\n",
        "    b=2*i\n",
        "    i=i+1\n",
        "    if (count+a+b>=n):\n",
        "        if(count+a>=n):\n",
        "            print(\"patlu\")\n",
        "        else:\n",
        "            print(\"Motu\")\n",
        "        break\n",
        "    count=count+a+b\n"
      ],
      "metadata": {
        "colab": {
          "base_uri": "https://localhost:8080/"
        },
        "id": "5JvezSrJ3h66",
        "outputId": "a89ac86f-b8c3-48bc-91a6-1ed6706c0a92"
      },
      "execution_count": 3,
      "outputs": [
        {
          "output_type": "stream",
          "name": "stdout",
          "text": [
            "N13\n",
            "Motu\n"
          ]
        }
      ]
    },
    {
      "cell_type": "markdown",
      "source": [],
      "metadata": {
        "id": "9NvLWsYDxdHc"
      }
    }
  ]
}