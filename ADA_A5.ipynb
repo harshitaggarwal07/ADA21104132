{
  "nbformat": 4,
  "nbformat_minor": 0,
  "metadata": {
    "colab": {
      "provenance": []
    },
    "kernelspec": {
      "name": "python3",
      "display_name": "Python 3"
    },
    "language_info": {
      "name": "python"
    }
  },
  "cells": [
    {
      "cell_type": "markdown",
      "source": [],
      "metadata": {
        "id": "bqlMaTBCyBtw"
      }
    },
    {
      "cell_type": "code",
      "execution_count": null,
      "metadata": {
        "id": "umwnfD8Nx7az"
      },
      "outputs": [],
      "source": [
        "Lab Assignment 5:\n",
        "Given a sorted array A containing N integers both positive and negative.\n",
        "You need to create another array containing the squares of all the elements in A and return it in non-decreasing order.\n",
        "Write a Python program to implement this in O(N) time.\n",
        "\n",
        "Example Input\n",
        "\n",
        "Input 1:\n",
        "A = [-6, -3, -1, 2, 4, 5]\n",
        "Input 2:\n",
        "A = [-5, -4, -2, 0, 1]\n",
        "\n",
        "Example Output\n",
        "Output 1:\n",
        "[1, 4, 9, 16, 25, 36]\n",
        "Output 2:\n",
        "[0, 1, 4, 16, 25]"
      ]
    },
    {
      "cell_type": "code",
      "source": [
        "# Function to sort an square array\n",
        "def sortSquare(arr, n):\n",
        "\tfor i in range(n):\n",
        "\t\tarr[i]= arr[i] * arr[i]\n",
        "\tarr.sort()\n",
        "\n",
        "# Driver code\n",
        "arr = [-6, -3, -1, 2, 4, 5]\n",
        "n = len(arr)\n",
        "\n",
        "print(\"Before sort\")\n",
        "for i in range(n):\n",
        "\tprint(arr[i], end = \" \")\n",
        "\n",
        "sortSquare(arr, n)\n",
        "\n",
        "print(\"\\n After sort\")\n",
        "for i in range(n):\n",
        "\tprint(arr[i], end = \" \")"
      ],
      "metadata": {
        "colab": {
          "base_uri": "https://localhost:8080/"
        },
        "id": "X-fXfNyLyCX8",
        "outputId": "0e2a42e5-6f37-4b4d-9601-8a02c3c0078b"
      },
      "execution_count": 1,
      "outputs": [
        {
          "output_type": "stream",
          "name": "stdout",
          "text": [
            "Before sort\n",
            "-6 -3 -1 2 4 5 \n",
            " After sort\n",
            "1 4 9 16 25 36 "
          ]
        }
      ]
    }
  ]
}