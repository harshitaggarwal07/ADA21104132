{
  "nbformat": 4,
  "nbformat_minor": 0,
  "metadata": {
    "colab": {
      "provenance": []
    },
    "kernelspec": {
      "name": "python3",
      "display_name": "Python 3"
    },
    "language_info": {
      "name": "python"
    }
  },
  "cells": [
    {
      "cell_type": "markdown",
      "source": [
        "Lab Assignment 4:\n",
        "Program 1: Given a Stack 'S'. Write a Python Program to SORT the stack recursively in decreasing order.\n",
        "Note: Looping through the stack is not allowed. You need to return a stack that is sorted in decreasing order.\n",
        "\n",
        "Example:\n",
        "Given stack: 5 1 2 6 4\n",
        "Output: 6 5 4 2 1\n"
      ],
      "metadata": {
        "id": "qy0emhbXuZNb"
      }
    },
    {
      "cell_type": "code",
      "source": [
        "a = 0\n",
        "arr = []\n",
        "\n",
        "\n",
        "def sort1(arr, n):\n",
        "    if (len(arr) == 0 or n > arr[-1]):\n",
        "        arr.append(n)\n",
        "        return\n",
        "    else:\n",
        "        temp = arr.pop()\n",
        "        sort1(arr, n)\n",
        "        arr.append(temp)\n",
        "\n",
        "\n",
        "def sortstack(arr):\n",
        "    if len(arr) != 0:\n",
        "\n",
        "        temp = arr.pop()\n",
        "        sortstack(arr)\n",
        "        sort1(arr, temp)\n",
        "\n",
        "\n",
        "def printStack(arr):\n",
        "    for i in arr[::-1]:\n",
        "        print(i, end=\" \")\n",
        "    print()\n",
        "\n",
        "\n",
        "if __name__ == '__main__':\n",
        "    arr.append(5)\n",
        "    arr.append(1)\n",
        "    arr.append(2)\n",
        "    arr.append(6)\n",
        "    arr.append(4)\n",
        "\n",
        "\n",
        "    print(\"Stack elements before sorting: \")\n",
        "    printStack(arr)\n",
        "\n",
        "    sortstack(arr)\n",
        "    print(\"\\nStack elements after sorting: \")\n",
        "    printStack(arr)"
      ],
      "metadata": {
        "colab": {
          "base_uri": "https://localhost:8080/"
        },
        "id": "spq3vohYufuE",
        "outputId": "3b62ab16-3929-4b27-95a1-fb65ad190e09"
      },
      "execution_count": 2,
      "outputs": [
        {
          "output_type": "stream",
          "name": "stdout",
          "text": [
            "Stack elements before sorting: \n",
            "4 6 2 1 5 \n",
            "\n",
            "Stack elements after sorting: \n",
            "6 5 4 2 1 \n"
          ]
        }
      ]
    },
    {
      "cell_type": "markdown",
      "source": [
        "Program 2: Given a text string containing characters only from lowercase alphabetic characters and a pattern string containing characters only from lowercase alphabetic characters and two other special characters '.' and '*'.\n",
        "\n",
        "Write a Python program for pattern matching that returns true if pattern is matched with text otherwise returns false using follow the Brute force approach. The matching must be exact, not partial.\n",
        "\n",
        "Explanation of the special characters:'.' - Matches a single character from lowercase alphabetic characters.'*' - Matches zero or more preceding character. It is guaranteed that '*' will have one preceding character which can be any lowercase alphabetic character or special character '.'. But '*' will never be the preceding character of '*'. (That means \"**\" will never occur in the pattern string.)\\ '.' = \"a\", \"b\", \"c\", ... , \"z\"\\ a* = \"a\", \"aa\", \"aaa\", \"aaaa\",... or empty string(\"\")\\ ab* = \"a\", \"ab\", \"abb\", \"abbb\", \"abbbb\", ...\n",
        "Example One {\n",
        "\"text\": \"abbbc\",\n",
        "\"pattern\": \"ab*c\"\n",
        "}\n",
        "Output:1\n",
        "\n",
        "Given pattern string can match: \"ac\", \"abc\", \"abbc\", \"abbbc\", \"abbbbc\", ...\n",
        "Example Two {\n",
        "\"text\": \"abcdefg\",\n",
        "\"pattern\": \"a.c.*.*gg*\"\n",
        "}\n",
        "Output:1\n",
        "\n",
        "\n",
        "Example Three {\n",
        "\"text\": \"abc\",\n",
        "\"pattern\": \".ab*..\"\n",
        "}\n",
        "Output:0"
      ],
      "metadata": {
        "id": "nfjjOxLiv_Zp"
      }
    },
    {
      "cell_type": "code",
      "source": [
        "def pattern_match(text, pattern):\n",
        "    # Initialize the DP table with False values\n",
        "    dp = [[False] * (len(pattern) + 1) for _ in range(len(text) + 1)]\n",
        "    \n",
        "    # Base case: both text and pattern are empty, so they match\n",
        "    dp[0][0] = True\n",
        "    \n",
        "    # Handle patterns that start with '*'\n",
        "    for j in range(1, len(pattern) + 1):\n",
        "        if pattern[j-1] == '*':\n",
        "            dp[0][j] = dp[0][j-2]\n",
        "    \n",
        "    # Fill in the rest of the table\n",
        "    for i in range(1, len(text) + 1):\n",
        "        for j in range(1, len(pattern) + 1):\n",
        "            # Case 1: pattern matches current character in text\n",
        "            if text[i-1] == pattern[j-1] or pattern[j-1] == '.':\n",
        "                dp[i][j] = dp[i-1][j-1]\n",
        "            # Case 2: pattern contains a '*', can match zero or more characters\n",
        "            elif pattern[j-1] == '*':\n",
        "                dp[i][j] = dp[i][j-2]  # '*' matches zero characters\n",
        "                if text[i-1] == pattern[j-2] or pattern[j-2] == '.':\n",
        "                    dp[i][j] = dp[i][j] or dp[i-1][j]  # '*' matches one or more characters\n",
        "                \n",
        "    # Return the final value in the DP table\n",
        "    return dp[-1][-1]\n",
        "\n",
        "# Example usage\n",
        "text = \"aab\"\n",
        "pattern = \"c*a*b\"\n",
        "if pattern_match(text, pattern):\n",
        "    print(\"Pattern matched\")\n",
        "else:\n",
        "    print(\"Pattern not matched\")"
      ],
      "metadata": {
        "colab": {
          "base_uri": "https://localhost:8080/"
        },
        "id": "TAxTHnh4wD2A",
        "outputId": "879d3a4a-1974-49e6-a2d5-39c5fe445a35"
      },
      "execution_count": 3,
      "outputs": [
        {
          "output_type": "stream",
          "name": "stdout",
          "text": [
            "Pattern matched\n"
          ]
        }
      ]
    }
  ]
}