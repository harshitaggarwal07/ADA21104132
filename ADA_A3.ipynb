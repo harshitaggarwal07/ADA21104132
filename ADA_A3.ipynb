{
  "nbformat": 4,
  "nbformat_minor": 0,
  "metadata": {
    "colab": {
      "provenance": []
    },
    "kernelspec": {
      "name": "python3",
      "display_name": "Python 3"
    },
    "language_info": {
      "name": "python"
    }
  },
  "cells": [
    {
      "cell_type": "markdown",
      "source": [
        "Write a Program to Reverse a given stack of integers using recursion. Create a recurrence relation and calculate its Time Complexity."
      ],
      "metadata": {
        "id": "1bAPtcA27KBo"
      }
    },
    {
      "cell_type": "code",
      "source": [
        "# Python program to reverse a stack using recursion\n",
        "\n",
        "def insertAtBottom(stack, item):\n",
        "\tif isEmpty(stack):\n",
        "\t\tpush(stack, item)\n",
        "\telse:\n",
        "\t\ttemp = pop(stack)\n",
        "\t\tinsertAtBottom(stack, item)\n",
        "\t\tpush(stack, temp)\n",
        "\n",
        "# reverses the given stack using insertAtBottom()\n",
        "def reverse(stack):\n",
        "\tif not isEmpty(stack):\n",
        "\t\ttemp = pop(stack)\n",
        "\t\treverse(stack)\n",
        "\t\tinsertAtBottom(stack, temp)\n",
        "\n",
        "def createStack():\n",
        "\tstack = []\n",
        "\treturn stack\n",
        "\n",
        "# Function to check if the stack is empty\n",
        "def isEmpty(stack):\n",
        "\treturn len(stack) == 0\n",
        "\n",
        "# Function to push an item to stack\n",
        "def push(stack, item):\n",
        "\tstack.append(item)\n",
        "\n",
        "# Function to pop an item from stack\n",
        "def pop(stack):\n",
        "\n",
        "\t# If stack is empty then error\n",
        "\tif(isEmpty(stack)):\n",
        "\t\tprint(\"Stack Underflow \")\n",
        "\t\texit(1)\n",
        "\n",
        "\treturn stack.pop()\n",
        "\n",
        "# Function to print the stack\n",
        "def prints(stack):\n",
        "\tfor i in range(len(stack)-1, -1, -1):\n",
        "\t\tprint(stack[i], end=' ')\n",
        "\tprint()\n",
        "\n",
        "# Driver Code\n",
        "\n",
        "\n",
        "stack = createStack()\n",
        "push(stack, str(4))\n",
        "push(stack, str(3))\n",
        "push(stack, str(2))\n",
        "push(stack, str(1))\n",
        "print(\"Original Stack \")\n",
        "prints(stack)\n",
        "\n",
        "reverse(stack)\n",
        "\n",
        "print(\"Reversed Stack \")\n",
        "prints(stack)"
      ],
      "metadata": {
        "colab": {
          "base_uri": "https://localhost:8080/"
        },
        "id": "9Yw4jMIG8STY",
        "outputId": "f7ec38be-5ba6-4932-cd76-b6f7349fd4c4"
      },
      "execution_count": 1,
      "outputs": [
        {
          "output_type": "stream",
          "name": "stdout",
          "text": [
            "Original Stack \n",
            "1 2 3 4 \n",
            "Reversed Stack \n",
            "4 3 2 1 \n"
          ]
        }
      ]
    },
    {
      "cell_type": "markdown",
      "source": [
        "Program 2: Given a string 'S'. Write a program to find an array of all possible strings in any order that can be formed by transforming every letter individually to the lowercase or the uppercase. Note:\n",
        "\n",
        "You can print the array in any order. The string 'S' only contains English alphabets and digits. Sample Input 1: a1b Sample Output 1: A1B A1b a1B a1b\n",
        "\n",
        "Sample Input 2: 0 Sample Output 2: 0 \n",
        "Explanation: There is no alphabet in the string, so we get the output the same as the input string."
      ],
      "metadata": {
        "id": "p6WLmS1t0tqC"
      }
    },
    {
      "cell_type": "code",
      "source": [
        "#code to print all th permutation \n",
        "\n",
        "def permute(input, output):\n",
        "    if len(input)==0:\n",
        "        print(output, end=\" \")\n",
        "        return\n",
        "    ch= input[0].lower()\n",
        "    ch2= input[0].upper()\n",
        "    input = input[1:]\n",
        "    permute(input, output+ch)\n",
        "    permute(input, output+ch2)\n",
        "\n",
        "def main():\n",
        "    input = \"AB\"\n",
        "    permute(input, \" \")\n",
        "\n",
        "main()"
      ],
      "metadata": {
        "colab": {
          "base_uri": "https://localhost:8080/"
        },
        "id": "JRAypvD70um7",
        "outputId": "a71d28f6-af43-4a56-8d43-39e13e9e4204"
      },
      "execution_count": 3,
      "outputs": [
        {
          "output_type": "stream",
          "name": "stdout",
          "text": [
            " ab  aB  Ab  AB "
          ]
        }
      ]
    }
  ]
}