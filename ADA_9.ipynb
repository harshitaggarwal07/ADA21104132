{
  "nbformat": 4,
  "nbformat_minor": 0,
  "metadata": {
    "colab": {
      "provenance": []
    },
    "kernelspec": {
      "name": "python3",
      "display_name": "Python 3"
    },
    "language_info": {
      "name": "python"
    }
  },
  "cells": [
    {
      "cell_type": "markdown",
      "source": [
        "Lab Assignment 9:\n",
        "1 Write a program in Python to solve 0 1 knapsack knapsack using Dynamic programming."
      ],
      "metadata": {
        "id": "q15VDueOGP-j"
      }
    },
    {
      "cell_type": "code",
      "source": [
        "# A Dynamic Programming based Python\n",
        "# Program for 0-1 Knapsack problem\n",
        "# Returns the maximum value that can\n",
        "# be put in a knapsack of capacity W\n",
        " \n",
        " \n",
        "def knapSack(W, wt, val, n):\n",
        "    K = [[0 for x in range(W + 1)] for x in range(n + 1)]\n",
        " \n",
        "    # Build table K[][] in bottom up manner\n",
        "    for i in range(n + 1):\n",
        "        for w in range(W + 1):\n",
        "            if i == 0 or w == 0:\n",
        "                K[i][w] = 0\n",
        "            elif wt[i-1] <= w:\n",
        "                K[i][w] = max(val[i-1]\n",
        "                              + K[i-1][w-wt[i-1]],\n",
        "                              K[i-1][w])\n",
        "            else:\n",
        "                K[i][w] = K[i-1][w]\n",
        " \n",
        "    return K[n][W]\n",
        " \n",
        " \n",
        "# Driver code\n",
        "if __name__ == '__main__':\n",
        "    profit = [60, 100, 120]\n",
        "    weight = [10, 20, 30]\n",
        "    W = 50\n",
        "    n = len(profit)\n",
        "    print(knapSack(W, weight, profit, n))\n",
        " "
      ],
      "metadata": {
        "colab": {
          "base_uri": "https://localhost:8080/"
        },
        "id": "lcJ4AwjIGRIv",
        "outputId": "a5d1ef57-bbd9-4655-feab-7bbb4305ca67"
      },
      "execution_count": 1,
      "outputs": [
        {
          "output_type": "stream",
          "name": "stdout",
          "text": [
            "220\n"
          ]
        }
      ]
    }
  ]
}
