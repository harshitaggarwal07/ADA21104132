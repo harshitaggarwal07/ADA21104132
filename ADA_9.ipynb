{
  "nbformat": 4,
  "nbformat_minor": 0,
  "metadata": {
    "colab": {
      "provenance": []
    },
    "kernelspec": {
      "name": "python3",
      "display_name": "Python 3"
    },
    "language_info": {
      "name": "python"
    }
  },
  "cells": [
    {
      "cell_type": "markdown",
      "source": [
        "Lab Assignment 9:\n",
        "1 Write a program in Python to solve 0 1 knapsack knapsack using Dynamic programming."
      ],
      "metadata": {
        "id": "q15VDueOGP-j"
      }
    },
    {
      "cell_type": "code",
      "source": [
        "def knapsack_dp(weights, values, capacity):\n",
        "    n = len(weights)\n",
        "    dp = [[0] * (capacity + 1) for _ in range(n + 1)]\n",
        "    \n",
        "    for i in range(1, n + 1):\n",
        "        for w in range(1, capacity + 1):\n",
        "            if weights[i - 1] <= w:\n",
        "                dp[i][w] = max(dp[i - 1][w], dp[i - 1][w - weights[i - 1]] + values[i - 1])\n",
        "            else:\n",
        "                dp[i][w] = dp[i - 1][w]\n",
        "    \n",
        "    # Backtracking to get selected items\n",
        "    selected_items = []\n",
        "    w = capacity\n",
        "    for i in range(n, 0, -1):\n",
        "        if dp[i][w] != dp[i - 1][w]:\n",
        "            selected_items.append(i - 1)\n",
        "            w -= weights[i - 1]\n",
        "    \n",
        "    return dp[n][capacity], selected_items[::-1]\n",
        "\n",
        "\n",
        "# Example usage\n",
        "weights = [10, 20, 30]\n",
        "values = [60, 100, 120]\n",
        "capacity = 50\n",
        "max_value, selected_items = knapsack_dp(weights, values, capacity)\n",
        "print(\"Maximum value:\", max_value)\n",
        "print(\"Selected items:\", selected_items)"
      ],
      "metadata": {
        "colab": {
          "base_uri": "https://localhost:8080/"
        },
        "id": "lcJ4AwjIGRIv",
        "outputId": "95bcf6e7-fd84-4524-f198-59176f1636ab"
      },
      "execution_count": 1,
      "outputs": [
        {
          "output_type": "stream",
          "name": "stdout",
          "text": [
            "Maximum value: 220\n",
            "Selected items: [1, 2]\n"
          ]
        }
      ]
    }
  ]
}