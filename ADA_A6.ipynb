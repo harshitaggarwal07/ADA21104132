{
  "nbformat": 4,
  "nbformat_minor": 0,
  "metadata": {
    "colab": {
      "provenance": []
    },
    "kernelspec": {
      "name": "python3",
      "display_name": "Python 3"
    },
    "language_info": {
      "name": "python"
    }
  },
  "cells": [
    {
      "cell_type": "markdown",
      "source": [
        "Given an M × N matrix, which is row-wise and column-wise sorted (with all strictly increasing elements in any row or column), write a program in Python to report all occurrences of a given element in it in linear time.\n",
        "\n",
        "For example,\n",
        "\n",
        "Input:\n",
        " \n",
        "[ -4 -3 -1  3  5 ]\n",
        "[ -3 -2  2  4  6 ]\n",
        "[ -1  1  3  5  8 ]\n",
        "[  3  4  7  8  9 ]\n",
        " \n",
        "Output:\n",
        " \n",
        "Element 3 is found at position (0, 3)\n",
        "Element 3 is found at position (2, 2)\n",
        "Element 3 is found at position (3, 0)"
      ],
      "metadata": {
        "id": "55UoUxDE29V5"
      }
    },
    {
      "cell_type": "code",
      "source": [
        "def search(mat, n, x):\n",
        "    if(n == 0):\n",
        "        return -1\n",
        " \n",
        "    # Traverse through the matrix\n",
        "    for i in range(n):\n",
        "        for j in range(n):\n",
        " \n",
        "            # If the element is found\n",
        "            if(mat[i][j] == x):\n",
        "                print(\"Element found at (\", i, \",\", j, \")\")\n",
        "                return 1\n",
        " \n",
        "    print(\" Element not found\")\n",
        "    return 0\n",
        " \n",
        " \n",
        "# Driver code\n",
        "if __name__ == \"__main__\":\n",
        "    mat = [[-4,-3,-1,3,5],\n",
        "[-3,-2,2,4,6],\n",
        "[-1,1,3,5,8],\n",
        "[3,4,7,8,9]]\n",
        " \n",
        "    # Function call\n",
        "    search(mat, 4, 3)"
      ],
      "metadata": {
        "colab": {
          "base_uri": "https://localhost:8080/"
        },
        "id": "mq1uzf4v2_AH",
        "outputId": "945dfa7f-7af9-4e09-dee9-d5ee7fc11b2f"
      },
      "execution_count": 1,
      "outputs": [
        {
          "output_type": "stream",
          "name": "stdout",
          "text": [
            "Element found at ( 0 , 3 )\n"
          ]
        }
      ]
    },
    {
      "cell_type": "markdown",
      "source": [
        "Write a Python program to perform Matrix multiplication using Strassen's method"
      ],
      "metadata": {
        "id": "L10FNRJ43X3i"
      }
    },
    {
      "cell_type": "code",
      "source": [
        "def matrix_mult_strassen(a, b):\n",
        "    n = len(a)\n",
        "    if n == 1:\n",
        "        return [[a[0][0] * b[0][0]]]\n",
        "    else:\n",
        "        # split matrices into four quadrants\n",
        "        a11, a12, a21, a22 = split_matrix(a)\n",
        "        b11, b12, b21, b22 = split_matrix(b)\n",
        "\n",
        "        # compute 7 intermediate matrices using Strassen's method\n",
        "        m1 = matrix_mult_strassen(add_matrices(a11, a22), add_matrices(b11, b22))\n",
        "        m2 = matrix_mult_strassen(add_matrices(a21, a22), b11)\n",
        "        m3 = matrix_mult_strassen(a11, sub_matrices(b12, b22))\n",
        "        m4 = matrix_mult_strassen(a22, sub_matrices(b21, b11))\n",
        "        m5 = matrix_mult_strassen(add_matrices(a11, a12), b22)\n",
        "        m6 = matrix_mult_strassen(sub_matrices(a21, a11), add_matrices(b11, b12))\n",
        "        m7 = matrix_mult_strassen(sub_matrices(a12, a22), add_matrices(b21, b22))\n",
        "\n",
        "        # compute quadrants of result matrix\n",
        "        c11 = add_matrices(sub_matrices(add_matrices(m1, m4), m5), m7)\n",
        "        c12 = add_matrices(m3, m5)\n",
        "        c21 = add_matrices(m2, m4)\n",
        "        c22 = add_matrices(sub_matrices(add_matrices(m1, m3), m2), m6)\n",
        "\n",
        "        # combine quadrants into result matrix\n",
        "        result = combine_matrices(c11, c12, c21, c22)\n",
        "        return result\n",
        "\n",
        "\n",
        "def split_matrix(m):\n",
        "    n = len(m) // 2\n",
        "    return m[:n], m[:n], m[n:], m[n:]\n",
        "\n",
        "def add_matrices(a, b):\n",
        "    n = len(a)\n",
        "    c = [[0] * n for i in range(n)]\n",
        "    for i in range(n):\n",
        "        for j in range(n):\n",
        "            c[i][j] = a[i][j] + b[i][j]\n",
        "    return c\n",
        "\n",
        "def sub_matrices(a, b):\n",
        "    n = len(a)\n",
        "    c = [[0] * n for i in range(n)]\n",
        "    for i in range(n):\n",
        "        for j in range(n):\n",
        "            c[i][j] = a[i][j] - b[i][j]\n",
        "    return c\n",
        "\n",
        "def combine_matrices(a11, a12, a21, a22):\n",
        "    n = len(a11)\n",
        "    m = [[0] * (n * 2) for i in range(n * 2)]\n",
        "    for i in range(n):\n",
        "        for j in range(n):\n",
        "            m[i][j] = a11[i][j]\n",
        "            m[i][j + n] = a12[i][j]\n",
        "            m[i + n][j] = a21[i][j]\n",
        "            m[i + n][j + n] = a22[i][j]\n",
        "    return m\n",
        "\n",
        "if __name__ == '__main__':\n",
        "    a = [[1, 2], [3, 4]]\n",
        "    b = [[5, 6], [7, 8]]\n",
        "    result = matrix_mult_strassen(a, b)\n",
        "    print(result)"
      ],
      "metadata": {
        "colab": {
          "base_uri": "https://localhost:8080/"
        },
        "id": "A_oRQ1bt3j5Q",
        "outputId": "d6487062-db5f-4b45-f453-c185ef3c4113"
      },
      "execution_count": 2,
      "outputs": [
        {
          "output_type": "stream",
          "name": "stdout",
          "text": [
            "[[12, 12], [36, 36]]\n"
          ]
        }
      ]
    }
  ]
}